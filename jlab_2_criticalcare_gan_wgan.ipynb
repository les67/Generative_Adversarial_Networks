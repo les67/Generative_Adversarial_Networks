{
  "nbformat": 4,
  "nbformat_minor": 0,
  "metadata": {
    "colab": {
      "name": "jlab_2_criticalcare_gan_wgan.ipynb",
      "provenance": [],
      "collapsed_sections": [],
      "mount_file_id": "1oAcCDqpb8yOYgtB040kbubC-UoNPIPSj",
      "authorship_tag": "ABX9TyPuXOi57hWRsctnMa1jceE7",
      "include_colab_link": true
    },
    "kernelspec": {
      "name": "python3",
      "display_name": "Python 3"
    },
    "language_info": {
      "name": "python"
    }
  },
  "cells": [
    {
      "cell_type": "markdown",
      "metadata": {
        "id": "view-in-github",
        "colab_type": "text"
      },
      "source": [
        "<a href=\"https://colab.research.google.com/github/les67/Generative_Adversarial_Networks/blob/main/jlab_2_criticalcare_gan_wgan.ipynb\" target=\"_parent\"><img src=\"https://colab.research.google.com/assets/colab-badge.svg\" alt=\"Open In Colab\"/></a>"
      ]
    },
    {
      "cell_type": "markdown",
      "source": [
        "# Interview Problems for Data Science Postdoc position\n",
        "\n",
        "## Problem #2 (generative models)\n",
        "\n",
        "The goal of this exercise is to create a generative adversarial network to reproduce the tabular data found\n",
        "https://github.com/JeffersonLab/jlab_datascience_data/blob/main/eICU_age.npy. The dataset\n",
        "includes the ages of critical care patients seen across intensive care units in the United States. The original\n",
        "data is from the eICU Collaborative Research Database https://eicu-crd.mit.edu/about/eicu/.\n",
        "To solve this problem implement a generative adversarial network (GAN) in python to produce the distribution of age for these patients. Your script must coordinate both the generator and discriminator models.\n",
        "Please provide figures to illustrate this coordination and compare the distribution from the generator model\n",
        "output with that of the true distribution."
      ],
      "metadata": {
        "id": "712ytjBGI6R0"
      }
    },
    {
      "cell_type": "code",
      "source": [
        "import numpy as np\n",
        "import matplotlib.pyplot as plt\n",
        "import tensorflow as tf\n",
        "from tensorflow.keras import layers\n",
        "import tensorflow_probability as tfp\n",
        "from scipy.stats import iqr\n",
        "from scipy.spatial import distance\n",
        "from sklearn.model_selection import train_test_split\n",
        "import os\n",
        "import time"
      ],
      "metadata": {
        "id": "AWoio92bHi-y"
      },
      "execution_count": null,
      "outputs": []
    },
    {
      "cell_type": "markdown",
      "source": [
        "- Load data:"
      ],
      "metadata": {
        "id": "4vzry7WfHkoq"
      }
    },
    {
      "cell_type": "code",
      "source": [
        "# Load eICU critical pacient age data\n",
        "age_data = np.load('/content/drive/MyDrive/eICU_age.npy')\n",
        "print('Data is of shape {} and of type {}'.format(age_data.shape,age_data.dtype))\n",
        "\n",
        "age_data = age_data.astype(int) # Change dtype to integers\n",
        "print('Data is of shape {} and of type {}'.format(age_data.shape,age_data.dtype))"
      ],
      "metadata": {
        "colab": {
          "base_uri": "https://localhost:8080/"
        },
        "id": "o4B_-ma7HmN0",
        "outputId": "dd68799f-9c64-4927-9322-ae320034724d"
      },
      "execution_count": null,
      "outputs": [
        {
          "output_type": "stream",
          "name": "stdout",
          "text": [
            "Data is of shape (2520,) and of type [('age', 'i1')]\n",
            "Data is of shape (2520,) and of type int64\n"
          ]
        }
      ]
    },
    {
      "cell_type": "code",
      "source": [
        "# Visulize real data\n",
        "bins = np.arange(np.min(age_data)-0.5,np.max(age_data)+1.5,1)\n",
        "plt.figure(figsize=(10,8))\n",
        "age_data_counts, _ , _ = plt.hist(age_data,bins,facecolor='none', linewidth=2,edgecolor='k',alpha=1,label='Real Data')\n",
        "plt.xlabel('Critical Patient Age (yr)',fontsize=14)\n",
        "plt.ylabel('Counts',fontsize=14)\n",
        "plt.legend(fontsize=14)\n",
        "plt.show()\n",
        "\n",
        "ages = np.arange(np.min(age_data),np.max(age_data)+1,1)"
      ],
      "metadata": {
        "colab": {
          "base_uri": "https://localhost:8080/",
          "height": 501
        },
        "id": "IgQtOxDXHn-A",
        "outputId": "136c2b2d-9e27-41e8-c5ff-c43eb62955c5"
      },
      "execution_count": null,
      "outputs": [
        {
          "output_type": "display_data",
          "data": {
            "text/plain": [
              "<Figure size 720x576 with 1 Axes>"
            ],
            "image/png": "[encoded data removed]"
          },
          "metadata": {
            "needs_background": "light"
          }
        }
      ]
    },
    {
      "cell_type": "markdown",
      "source": [
        "- Prepare dataset by batches\n",
        "- For a batch of 200 there are 12.6 batch samples per epoch"
      ],
      "metadata": {
        "id": "nTUxo79NHqvv"
      }
    },
    {
      "cell_type": "code",
      "source": [
        "BUFFER_SIZE = age_data.size # 2520 samples\n",
        "BATCH_SIZE = 200 # gives 12.6 batches per epoch\n",
        "\n",
        "# Batch and shuffle the data\n",
        "train_dataset = tf.data.Dataset.from_tensor_slices(age_data).shuffle(BUFFER_SIZE).batch(BATCH_SIZE) # randomize order and cut into batches"
      ],
      "metadata": {
        "id": "-QsoKjutHo8z"
      },
      "execution_count": null,
      "outputs": []
    },
    {
      "cell_type": "markdown",
      "source": [
        "## GAN Implementation:\n",
        "- Follows classic [GAN paper](https://arxiv.org/abs/1406.2661) idea\n",
        "- Define Generator and Discriminator models\n",
        "- Following the NN architectures of https://chunliangli.github.io/docs/dltp17gan.pdf, used to model a GAN for low dimensional distributions (since ours is 1D)"
      ],
      "metadata": {
        "id": "CzGEUDJIHuBT"
      }
    },
    {
      "cell_type": "code",
      "source": [
        "latent_dim = 100 # dimension of noise space domain\n",
        "                 # searches for explanation concludes in: this is some magic number most applications use\n",
        "\n",
        "def generator_model():\n",
        "  model = tf.keras.Sequential()\n",
        "  model.add(layers.Dense(128,activation='relu',input_shape=(latent_dim,),\n",
        "                         kernel_initializer=tf.keras.initializers.HeUniform()))\n",
        "  model.add(layers.Dense(128,activation='relu',\n",
        "                         kernel_initializer=tf.keras.initializers.HeUniform()))\n",
        "  model.add(layers.Dense(128,activation='relu',\n",
        "                         kernel_initializer=tf.keras.initializers.HeUniform()))\n",
        "  model.add(layers.Dense(1))\n",
        "  return model\n",
        "\n",
        "def discriminator_model():\n",
        "  model = tf.keras.Sequential()\n",
        "  model.add(layers.Dense(32,activation='relu',input_shape=(1,),\n",
        "            kernel_initializer=tf.keras.initializers.HeUniform()))\n",
        "  model.add(layers.Dense(32,activation='relu',\n",
        "            kernel_initializer=tf.keras.initializers.HeUniform()))\n",
        "  model.add(layers.Dense(32,activation='relu',\n",
        "            kernel_initializer=tf.keras.initializers.HeUniform()))\n",
        "  model.add(layers.Dense(1,activation='sigmoid')) # sigmoid output for binary classification\n",
        "  return model  "
      ],
      "metadata": {
        "id": "Md8Q7FcjHwpy"
      },
      "execution_count": null,
      "outputs": []
    },
    {
      "cell_type": "markdown",
      "source": [
        "- For the latent \"noise\" distribution we use the typical normal distrib\n",
        "- Generate a fake sample population before training"
      ],
      "metadata": {
        "id": "5jFggYa1HydY"
      }
    },
    {
      "cell_type": "code",
      "source": [
        "generator = generator_model()\n",
        "discriminator = discriminator_model()\n",
        "\n",
        "generated_samples0 = []\n",
        "for i in range(2000):\n",
        "  ii_noise = tf.random.normal([1,latent_dim])\n",
        "  ii_generated_sample = generator(ii_noise,training=False)\n",
        "  generated_samples0.append(ii_generated_sample.numpy()[0][0]) \n",
        "\n",
        "plt.figure(figsize=(10,8))\n",
        "plt.hist(generated_samples0,50,facecolor='mediumblue', edgecolor='k',alpha=0.5,label='Generated Data')\n",
        "plt.xlabel('Critical Patient Age (yr)',fontsize=14)\n",
        "plt.ylabel('Counts',fontsize=14)\n",
        "plt.legend(fontsize=14)\n",
        "plt.show()"
      ],
      "metadata": {
        "colab": {
          "base_uri": "https://localhost:8080/",
          "height": 501
        },
        "id": "VO6mFxzgHz_M",
        "outputId": "3ecebe9c-5f52-4e2f-fa0a-9a7a7e1fff23"
      },
      "execution_count": null,
      "outputs": [
        {
          "output_type": "display_data",
          "data": {
            "text/plain": [
              "<Figure size 720x576 with 1 Axes>"
            ],
            "image/png": "[encoded data removed]"
          },
          "metadata": {
            "needs_background": "light"
          }
        }
      ]
    },
    {
      "cell_type": "markdown",
      "source": [
        "- Define the losses:"
      ],
      "metadata": {
        "id": "e6qoVCnNH12p"
      }
    },
    {
      "cell_type": "code",
      "source": [
        "# Use the binary cross entropy loss\n",
        "cross_entropy = tf.keras.losses.BinaryCrossentropy(from_logits=True)\n",
        "\n",
        "def discriminator_loss(real_output, fake_output):\n",
        "    real_loss = cross_entropy(tf.ones_like(real_output), real_output)\n",
        "    fake_loss = cross_entropy(tf.zeros_like(fake_output), fake_output)\n",
        "    total_loss = real_loss + fake_loss\n",
        "    return total_loss\n",
        "\n",
        "def generator_loss(fake_output):\n",
        "    return cross_entropy(tf.ones_like(fake_output), fake_output)\n",
        "\n",
        "generator_optimizer = tf.keras.optimizers.Adam(1e-4)\n",
        "discriminator_optimizer = tf.keras.optimizers.Adam(1e-4)"
      ],
      "metadata": {
        "id": "ZVYglD9sH36d"
      },
      "execution_count": null,
      "outputs": []
    },
    {
      "cell_type": "markdown",
      "source": [
        "- Define training function based on original [GAN paper](https://arxiv.org/abs/1406.2661):\n",
        "  - for $N$ of training iterations do\n",
        "    - for $k$ steps do\n",
        "      - Sample minibatch of $m$ noise samples ${z^{(1)},...,z^{(m)}}$ from noise prior $p_g(z)$\n",
        "      - Sample minibatch of $m$ examples ${x^{(1)},...,x^{(m)}}$ from data generating distribution $p_\\text{data}(x)$\n",
        "      - Update the discriminator by ascending its stochastic gradient:\n",
        "        $\\nabla_{\\theta_d}\\frac{1}{m}\\sum_{i=1}^m \\left[ \\log D\\left(x^{(i)}\\right) + \\log \\left( 1-D\\left( G\\left( z^{(i)}\\right)\\right) \\right)\\right]$\n",
        "    - end for\n",
        "    - Sample minibatch of $m$ noise samples ${z^{(1)},...,z^{(m)}}$ from noise power $p_g(z)$\n",
        "    - Update the generator by descending its stochastic gradient:\n",
        "      $\\nabla_{\\theta_g} \\frac{1}{m}\\sum_{i=1}^m \\log\\left( 1-D\\left( G\\left( z^{(i)} \\right) \\right) \\right)$ \n",
        "    - end for\n",
        "- Actually, for the generator loss we compute $-\\nabla_{\\theta_g} \\frac{1}{m}\\sum_{i=1}^m \\log(D\\left( G\\left( z^{(i)} \\right) \\right)$\n",
        "  - This is typical in practice because the gradients of the former are very very small when the generator is bad and only get big once the generator is good. The latter, instead, have gradients which are large when the generator is bad and diminishing gradients as the generator becomes good\n",
        "- I chose to update the generator weights every 10 weight-update iterations for the discriminator\n",
        "  - This is to prevent the generator loss from simply improve itself by quickly making the discriminator worse. This way we avoid updating the discriminator according to the generator's loss"
      ],
      "metadata": {
        "id": "MOvZFtXTH5HE"
      }
    },
    {
      "cell_type": "code",
      "source": [
        "disc_loss_hist = [] # to record loss\n",
        "gen_loss_hist = []\n",
        "generated_samples_progress = dict() # same generated samples every few epochs to track improvement\n",
        "\n",
        "# Path to save training checkpoints\n",
        "checkpoint_dir = './training_checkpoints'\n",
        "checkpoint_prefix = os.path.join(checkpoint_dir, \"ckpt\")\n",
        "checkpoint = tf.train.Checkpoint(generator_optimizer=generator_optimizer,\n",
        "                                 discriminator_optimizer=discriminator_optimizer,\n",
        "                                 generator=generator,\n",
        "                                 discriminator=discriminator)\n",
        "# Training function\n",
        "def train(dataset, epochs):\n",
        "  for epoch in range(epochs):\n",
        "    start = time.time()\n",
        "    print('epoch:',epoch+1)\n",
        "\n",
        "    discrim_update_counter = 0\n",
        "    for image_batch in dataset:\n",
        "      noise = tf.random.normal([BATCH_SIZE, latent_dim])\n",
        "\n",
        "      with tf.GradientTape() as disc_tape:\n",
        "        generated_samples = generator(noise, training=True)\n",
        "\n",
        "        real_output = discriminator(image_batch, training=True)\n",
        "        fake_output = discriminator(generated_samples, training=True)\n",
        "\n",
        "        disc_loss = discriminator_loss(real_output, fake_output)\n",
        "        disc_loss_hist.append(disc_loss.numpy())\n",
        "\n",
        "      gradients_of_discriminator = disc_tape.gradient(disc_loss, discriminator.trainable_variables)\n",
        "      discriminator_optimizer.apply_gradients(zip(gradients_of_discriminator, discriminator.trainable_variables))\n",
        "      discrim_update_counter += 1\n",
        "      if (discrim_update_counter+1) % 9 == 0 : # Update generator after 10 updates to discriminator\n",
        "        with tf.GradientTape() as gen_tape:\n",
        "          generated_samples = generator(noise, training=True)\n",
        "\n",
        "          fake_output = discriminator(generated_samples, training=True)\n",
        "\n",
        "          gen_loss = generator_loss(fake_output)\n",
        "          gen_loss_hist.append(gen_loss.numpy())\n",
        "\n",
        "        gradients_of_generator = gen_tape.gradient(gen_loss, generator.trainable_variables)\n",
        "        generator_optimizer.apply_gradients(zip(gradients_of_generator, generator.trainable_variables))     \n",
        "\n",
        "    # Save the model every n epochs\n",
        "    if (epoch + 1) % 99 == 0:\n",
        "      checkpoint.save(file_prefix = checkpoint_prefix)\n",
        "\n",
        "      # Save sample generated distribs to track progress\n",
        "      ii_generated_sample = []\n",
        "      for i in range(age_data.size):\n",
        "        jj_noise = tf.random.normal([1,latent_dim])\n",
        "        jj_generated_sample = generator(jj_noise,training=False)\n",
        "        ii_generated_sample.append(jj_generated_sample.numpy()[0][0]) \n",
        "      generated_samples_progress[epoch] = ii_generated_sample\n",
        "\n",
        "    print ('Time for epoch {} is {} sec'.format(epoch + 1, time.time()-start))"
      ],
      "metadata": {
        "id": "hxnQxglLH7nU"
      },
      "execution_count": null,
      "outputs": []
    },
    {
      "cell_type": "markdown",
      "source": [
        "- Train the model:"
      ],
      "metadata": {
        "id": "wzMQChIHH-lF"
      }
    },
    {
      "cell_type": "code",
      "source": [
        "EPOCHS = 2000\n",
        "train(train_dataset, EPOCHS)"
      ],
      "metadata": {
        "id": "MQcpzn0QIAio"
      },
      "execution_count": null,
      "outputs": []
    },
    {
      "cell_type": "code",
      "source": [
        "# Plot loss function\n",
        "gen_loss_steps = np.arange(5,len(disc_loss_hist)-1,13) # generator loss was only recorded sparsely\n",
        "plt.figure(figsize=(10,8))\n",
        "plt.plot(disc_loss_hist,color='orange',label='Discriminator Loss')\n",
        "plt.plot(gen_loss_steps,gen_loss_hist,color='green',label='Generator Loss')\n",
        "plt.yscale('log')\n",
        "plt.xlabel('Training Step',fontsize=14)\n",
        "plt.ylabel('Loss',fontsize=14)\n",
        "plt.legend(fontsize=14)\n",
        "plt.show()"
      ],
      "metadata": {
        "colab": {
          "base_uri": "https://localhost:8080/",
          "height": 501
        },
        "id": "aQx_W1pUICvj",
        "outputId": "236888d0-34e8-483d-fcef-9c034ad4c99f"
      },
      "execution_count": null,
      "outputs": [
        {
          "output_type": "display_data",
          "data": {
            "text/plain": [
              "<Figure size 720x576 with 1 Axes>"
            ],
            "image/png": "[encoded data removed]"
          },
          "metadata": {
            "needs_background": "light"
          }
        }
      ]
    },
    {
      "cell_type": "markdown",
      "source": [
        "- Loss shows convergence\n",
        "- Generate 2520 samples from trained generator and compare to real data:"
      ],
      "metadata": {
        "id": "cvhTVBjlIFPS"
      }
    },
    {
      "cell_type": "code",
      "source": [
        "checkpoint.restore(tf.train.latest_checkpoint(checkpoint_dir)) # point model to latest checkpoint\n",
        "\n",
        "generated_samples1 = [] # produce sample from trained generator\n",
        "for i in range(age_data.size):\n",
        "  ii_noise = tf.random.normal([1,latent_dim])\n",
        "  ii_generated_sample = generator(ii_noise,training=False)\n",
        "  generated_samples1.append(ii_generated_sample.numpy()[0][0]) "
      ],
      "metadata": {
        "id": "6C1l1HFYIG3T"
      },
      "execution_count": null,
      "outputs": []
    },
    {
      "cell_type": "code",
      "source": [
        "fig1=plt.figure(figsize=(10,8))\n",
        "frame1=fig1.add_axes((.1,.3,.8,.6))\n",
        "bins = np.arange(-20.5,200.5,1)\n",
        "a = plt.hist(age_data,bins,facecolor='none',linewidth=2, edgecolor='k',alpha=1,label='Real Data')\n",
        "bin_centers = (a[1][:-1] + a[1][1:]) / 2\n",
        "b = plt.hist(generated_samples1,bins,facecolor='mediumblue', edgecolor='k',alpha=0.5,label='Generated Data')\n",
        "plt.xlim(-25,110)\n",
        "plt.ylabel('Counts',fontsize=14)\n",
        "frame1.set_xticklabels([])\n",
        "xlims = frame1.get_xlim()\n",
        "plt.legend(fontsize=14)\n",
        "\n",
        "frame2=fig1.add_axes((.1,.1,.8,.2))\n",
        "res = b[0] - a[0]\n",
        "plt.scatter(bin_centers,res,marker='|',color='mediumblue',alpha=1)\n",
        "plt.ylim(-70,120)\n",
        "plt.xlim(-25,110)\n",
        "plt.xlabel('Critical Patient Age (yr)',fontsize=14)\n",
        "plt.ylabel('Residuals',fontsize=14)\n",
        "plt.grid(True)\n",
        "plt.show()"
      ],
      "metadata": {
        "colab": {
          "base_uri": "https://localhost:8080/",
          "height": 527
        },
        "id": "9JfCGpBdIH-P",
        "outputId": "6dcd16d7-2c26-4307-e277-5281dee136da"
      },
      "execution_count": null,
      "outputs": [
        {
          "output_type": "display_data",
          "data": {
            "text/plain": [
              "<Figure size 720x576 with 2 Axes>"
            ],
            "image/png": "[encoded data removed]"
          },
          "metadata": {
            "needs_background": "light"
          }
        }
      ]
    },
    {
      "cell_type": "markdown",
      "source": [
        "- Calculate means and stds\n",
        "- Original GAN uses Jensen-Shannon divergence to measure distribution similarity\n",
        "  - JS divergence is essentially a measure of relative entropy where entropy (information theory) is the measurement of the amount of info required on average to describe that variable\n",
        "  - If log base = 2, then JS is bound 0 <= JS <= 1 with 1 meaning perfect match and 0 being no match"
      ],
      "metadata": {
        "id": "F41Ws0DqIJbd"
      }
    },
    {
      "cell_type": "code",
      "source": [
        "print('Sample mean of real data distribution: {}'.format(np.mean(age_data)))\n",
        "print('Sample std of real data distribution: {}'.format(np.std(age_data)))\n",
        "\n",
        "print('Sample mean of generated data distribution: {}'.format(np.mean(generated_samples1)))\n",
        "print('Sample std of generated data distribution: {}'.format(np.std(generated_samples1)))\n",
        "\n",
        "print('The Jensen-Shannon divergence (base 2) between target and generated distribs is: {}'.format(distance.jensenshannon(age_data,generated_samples1,base=2)))"
      ],
      "metadata": {
        "colab": {
          "base_uri": "https://localhost:8080/"
        },
        "id": "NbWgoPvyIKHg",
        "outputId": "e5390ec6-95a1-444f-aeb1-4d63d8db26ee"
      },
      "execution_count": null,
      "outputs": [
        {
          "output_type": "stream",
          "name": "stdout",
          "text": [
            "Sample mean of real data distribution: 63.28452380952381\n",
            "Sample std of real data distribution: 17.721668608381833\n",
            "Sample mean of generated data distribution: 63.25572967529297\n",
            "Sample std of generated data distribution: 9.270828247070312\n",
            "The Jensen-Shannon divergence (base 2) between target and generated distribs is: 0.14221082737395413\n"
          ]
        }
      ]
    },
    {
      "cell_type": "markdown",
      "source": [
        "- No need for further comparison as the distributions are off even by eye, although the range has improved\n",
        "- The vanilla GAN implementation only manages to estimate the mean of the target distribution to ~< 1% error\n",
        "\n",
        "## Posible causes & solutions:\n",
        "\n",
        "- Problem seems to be rooted in \"mode collapse\"\n",
        "- Mode collapse: The generator produces an especially plausible output (or sewt of outputs), then it starts producing it/them over and over again since it fools the discriminator easily. Tends to happen earlier in the training process\n",
        "- The discriminator in turn learns to always reject that output (its best current strategy)\n",
        "- The discriminator gets stuck in a local minimum and doesn't find the best strategy. The generator over-optimizes for this strategy and the model falls in a trap\n",
        "- How to solve:\n",
        "  - Use Wasserstein GAN (see implementation below)\n",
        "\n",
        "Furthermore,\n",
        "- Two very good recent papers touch on this subject from an experimental viewpoint, see https://nvlpubs.nist.gov/nistpubs/jres/126/jres.126.008.pdf and https://chunliangli.github.io/docs/dltp17gan.pdf\n",
        "- Both touch on the same issue: Can GANs learn simple low dimensional (1D or 2D) distributions?\n",
        "- This seems to be a sparsely tested subfield of GAN performance (whereas high-dimensional spaces like image generation GANs have been widely explored)\n",
        "\n",
        "  Takeaways:\n",
        "    - GAN error as a function of training sample size shows that it is log-linear (decreasing) in sample size N and its slope depends solely on the dimension of the target distribution (see [figure  4](https://nvlpubs.nist.gov/nistpubs/jres/126/jres.126.008.pdf) for example, error is halved when going from 1D to 2D). Furthermore the error is higher for models with multiple modes\n",
        "    - Two main sources of GAN error: tail underfiting (generator fails to model tails of distribution) and bridge error (generator fails to model area between modes)\n",
        "    - Vanilla GANs and Wasserstein-GANs, in general, fail to learn target 1D distributions and only manage to capture the mode. This is regardless of the latent distribution (tested latent normal and uniform distributions on targets normal, uniform, cauchy, pareto); [Tables 1 and 2](https://chunliangli.github.io/docs/dltp17gan.pdf).\n",
        "\n",
        "  Possible solutions:\n",
        "    - Change latent sampling from normal distribution to stratified random sampling where the training sample is assembled from random samples drawn from each target mode (for multi-mode distribs). Relies on higher-fidelity hypothesis\n",
        "    - According to above, we expect to see a decrease in error by increasing sample size. If no more data is available at eICU or otherwise, we could explore a bootstrapping approach\n",
        "\n",
        "  Demonstrated solutions for 1D distributions:\n",
        "    - Use of a maximum mean discrepancy GAN (MMD GAN) as discriminator. In these discriminators, the NNs are replaced with a two-sample t-test based kernels (see [Tables 1 and 2](https://chunliangli.github.io/docs/dltp17gan.pdf)) "
      ],
      "metadata": {
        "id": "QE6QNeycIObM"
      }
    },
    {
      "cell_type": "code",
      "source": [
        "# some extra code to make a movie out of generated sample progress during training\n",
        "\n",
        "if False:\n",
        "  # make samples into individual images\n",
        "  generated_samples_progress[0] = generated_samples0\n",
        "  keys = list(generated_samples_progress.keys())\n",
        "  keys.sort()\n",
        "\n",
        "  bins2 = np.arange(-20.5,200.5,1)\n",
        "  im_counter = 0\n",
        "  for ii_key in keys:\n",
        "    ii_gen_samples = generated_samples_progress[ii_key]\n",
        "\n",
        "    plt.figure(figsize=(10,8))\n",
        "    bins = np.arange(np.min(age_data)-0.5,np.max(age_data)+1.5,1)\n",
        "    a = plt.hist(age_data,bins,facecolor='none',linewidth=2, edgecolor='k',alpha=1,label='Real Data')\n",
        "    b = plt.hist(ii_gen_samples,bins2,facecolor='mediumblue', edgecolor='k',alpha=0.5,label='Generated Data')\n",
        "    plt.xlim(-10,120)\n",
        "    plt.ylim(0,900)\n",
        "    plt.ylabel('Counts',fontsize=14)\n",
        "    plt.xlabel('Critical Patient Age (yr)',fontsize=14)\n",
        "    plt.legend(fontsize=14)\n",
        "    plt.title('Epoch {}'.format(ii_key),fontsize=14)\n",
        "    plt.savefig('/content/drive/MyDrive/temp/{}.png'.format(im_counter), dpi=300, bbox_inches='tight') \n",
        "    plt.pause(1) \n",
        "    plt.close()\n",
        "\n",
        "    im_counter+=1"
      ],
      "metadata": {
        "id": "j7aJhCeuIPKe"
      },
      "execution_count": null,
      "outputs": []
    },
    {
      "cell_type": "markdown",
      "source": [
        "## WGAN implementation:\n",
        "- The classic GAN minimizes the Jensen-Shannon divergence, a measure of how much two distributions of different facets diverge from each other entropically\n",
        "  - Has no notion of true distance between distributions except for distribution overlap\n",
        "  - Two distributions with zero overlap and two distributions with very little overlap would have the same JS divergence\n",
        "  - Hard to guide evolution of generated samples towards real data distribution\n",
        "- The [WGAN](https://arxiv.org/abs/1701.07875):\n",
        "  - Discriminator no longer classifies but instead predicts the probability of generated samples as being real or fake. WGAN replaces the discriminator model with a critic that scores the realness or fakeness of a given image\n",
        "  - Wassertein loss is based on minimzing the distance between target and generator distributions (aka earth-mover distance \"how much it costs to move one distribution to another given a mapping joint distribution\"). Formally $W(p_\\text{data},p_G) = \\text{inf}_\\gamma E_{(x,y)\\sim \\gamma (x,y)}||x-y||$ where $\\gamma$ is a distribution over $x,y$ (describes which point $x$ goes into $y$)\n",
        "  - Using Kantorovich-Rubinstein duality we can omit finding $\\gamma$ (which is hard to find because $p_\\text{data}$ is unknown and $\\gamma$ may be very complicated in nature). This changes the Wasserstein distance to $W(p_\\text{data},p_G) = \\text{sup}_{||f||_L\\leq 1} E_{p_\\text{data}}[f(x)]-E_{p_{G(x)}}[f(x)]$ for some function $f$ which is 1-Lipschitz continuos $|f(x_1)-f(x_2)|\\leq |x_1 - x_2|$, i.e its slope is bound and changes slowly\n",
        "    - This limit on slope limits $f$ form being too steep and arbitrarily maximize $f(x)$ under $p_\\text{data}$ and arbitrarily minimize it under $p_{G(x)}$\n",
        "  - Wasserstein GANs are less vulnerable to getting stuck than minimax-based GANs, and avoid problems with vanishing gradients\n",
        "  - To enforce Lipschitz continuity of $f$ in practice, we use clipping of NN weights in the discriminator"
      ],
      "metadata": {
        "id": "1hfYaN_5IS4A"
      }
    },
    {
      "cell_type": "code",
      "source": [
        "class ClipConstraint():\n",
        "\tdef __init__(self, clip_value):\n",
        "\t\tself.clip_value = clip_value\n",
        "\n",
        "\tdef __call__(self, weights):\n",
        "\t\treturn tf.keras.backend.clip(weights, -self.clip_value, self.clip_value)"
      ],
      "metadata": {
        "id": "XVgSjtivIVlI"
      },
      "execution_count": null,
      "outputs": []
    },
    {
      "cell_type": "code",
      "source": [
        "clip_const = ClipConstraint(0.01) # lipschiptz continous restriction \n",
        "\n",
        "# Redefine the discriminator (now with clipping and without the final sigmoid)\n",
        "def discriminator_model():\n",
        "  model = tf.keras.Sequential()\n",
        "  model.add(layers.Dense(32,activation='relu',input_shape=(1,),\n",
        "            kernel_initializer=tf.keras.initializers.HeUniform(),\n",
        "            kernel_constraint=clip_const))\n",
        "  model.add(layers.Dense(32,activation='relu',\n",
        "            kernel_initializer=tf.keras.initializers.HeUniform(),\n",
        "            kernel_constraint=clip_const))\n",
        "  model.add(layers.Dense(32,activation='relu',\n",
        "            kernel_initializer=tf.keras.initializers.HeUniform(),\n",
        "            kernel_constraint=clip_const))\n",
        "  model.add(layers.Dense(1,activation='linear')) # WGAN\n",
        "  return model "
      ],
      "metadata": {
        "id": "PrzhCk5KIXen"
      },
      "execution_count": null,
      "outputs": []
    },
    {
      "cell_type": "markdown",
      "source": [
        "- WGAN training according to paper:\n",
        "- Require: $\\alpha$ the learning rate, $c$ the clipping parameter, $m$ the batch size, $n_\\text{critic}$ the number of iterations of the critic per generator iteration\n",
        "- Require: $w_0$ the initial critic paramters, $\\theta_0$ the initial generator's parameters\n",
        "- while $\\theta$ has not converged do:\n",
        "  - for $t=0,\\ldots,n_\\text{critic}$ do:\n",
        "    - Sample $[x^{(i)}]^m_{i=1}\\sim \\mathbb{P}_r$ a batch from the real data\n",
        "    - Sample $[z^{(i)}]^m_{i=1}\\sim p(z)$ a batch of prior samples (latent)\n",
        "    - $g_w \\leftarrow \\nabla_w \\left[ \\frac{1}{m}\\sum_{i=1}^m f_w (x^{(i)}) - \\frac{1}{m}\\sum_{i=1}^m f_w(g_\\theta(z^{(i)})) \\right]$ \n",
        "    - $w \\leftarrow w+\\alpha\\cdot \\text{RMSProp}(w,g_w)$\n",
        "    - $w \\leftarrow \\text{clip}(w,-c,c)$\n",
        "  - end for\n",
        "  - Sample $[z^{(i)}]^m_{i=1}\\sim p(z)$ a batch of prior samples\n",
        "  - $g_\\theta \\leftarrow -\\nabla_\\theta \\frac{1}{m}\\sum_{i=1}^m f_w(g_\\theta(z^{(i)}))$\n",
        "  - $\\theta \\leftarrow \\theta - \\alpha\\cdot\\text{RMSProp}(\\theta,g_\\theta)$\n",
        "- end while"
      ],
      "metadata": {
        "id": "WVI7SkcYIYqB"
      }
    },
    {
      "cell_type": "code",
      "source": [
        "def discriminator_loss(real_output, fake_output):\n",
        "  discrim_loss = -(tf.reduce_mean(real_output) - tf.reduce_mean(fake_output))\n",
        "  return discrim_loss\n",
        "\n",
        "def generator_loss(fake_output):\n",
        "  gen_loss = -tf.reduce_mean(fake_output)\n",
        "  return gen_loss"
      ],
      "metadata": {
        "id": "l7_Q7cQWIaKt"
      },
      "execution_count": null,
      "outputs": []
    },
    {
      "cell_type": "markdown",
      "source": [
        "- Instantiate models and RMSProp optimizers"
      ],
      "metadata": {
        "id": "p24UzEH_IcMn"
      }
    },
    {
      "cell_type": "code",
      "source": [
        "generator = generator_model()\n",
        "discriminator = discriminator_model()\n",
        "\n",
        "generator_optimizer = tf.keras.optimizers.RMSprop(learning_rate=0.00005)\n",
        "discriminator_optimizer = tf.keras.optimizers.RMSprop(learning_rate=0.00005)"
      ],
      "metadata": {
        "id": "RZlXcwJeIduv"
      },
      "execution_count": null,
      "outputs": []
    },
    {
      "cell_type": "code",
      "source": [
        "generated_samples0 = []\n",
        "for i in range(2000):\n",
        "  ii_noise = tf.random.normal([1,latent_dim])\n",
        "  ii_generated_sample = generator(ii_noise,training=False)\n",
        "  generated_samples0.append(ii_generated_sample.numpy()[0][0]) "
      ],
      "metadata": {
        "id": "5AQiGUA_IfCI"
      },
      "execution_count": null,
      "outputs": []
    },
    {
      "cell_type": "markdown",
      "source": [
        "- Train:"
      ],
      "metadata": {
        "id": "oLsamY9gIgL6"
      }
    },
    {
      "cell_type": "code",
      "source": [
        "disc_loss_hist = [] # to record loss\n",
        "gen_loss_hist = []\n",
        "generated_samples_progress = dict() # same generated samples every few epochs to track improvement\n",
        "\n",
        "# Path to save training checkpoints\n",
        "checkpoint_dir = './training_checkpoints'\n",
        "checkpoint_prefix = os.path.join(checkpoint_dir, \"ckpt\")\n",
        "checkpoint = tf.train.Checkpoint(generator_optimizer=generator_optimizer,\n",
        "                                 discriminator_optimizer=discriminator_optimizer,\n",
        "                                 generator=generator,\n",
        "                                 discriminator=discriminator)\n",
        "# Training function\n",
        "def train(dataset, epochs):\n",
        "  for epoch in range(epochs):\n",
        "    start = time.time()\n",
        "    print('epoch:',epoch+1)\n",
        "\n",
        "    discrim_update_counter = 0\n",
        "    for image_batch in dataset:\n",
        "      noise = tf.random.normal([BATCH_SIZE, latent_dim])\n",
        "\n",
        "      with tf.GradientTape() as disc_tape:\n",
        "        generated_samples = generator(noise, training=True)\n",
        "\n",
        "        real_output = discriminator(image_batch, training=True)\n",
        "        fake_output = discriminator(generated_samples, training=True)\n",
        "\n",
        "        disc_loss = discriminator_loss(real_output, fake_output)\n",
        "        disc_loss_hist.append(disc_loss.numpy())\n",
        "\n",
        "      gradients_of_discriminator = disc_tape.gradient(disc_loss, discriminator.trainable_variables)\n",
        "      discriminator_optimizer.apply_gradients(zip(gradients_of_discriminator, discriminator.trainable_variables))\n",
        "      discrim_update_counter += 1\n",
        "      if (discrim_update_counter+1) % 5 == 0 : # Update generator after 5 updates to discriminator\n",
        "        with tf.GradientTape() as gen_tape:\n",
        "          generated_samples = generator(noise, training=True)\n",
        "\n",
        "          fake_output = discriminator(generated_samples, training=True)\n",
        "\n",
        "          gen_loss = generator_loss(fake_output)\n",
        "          gen_loss_hist.append(gen_loss.numpy())\n",
        "\n",
        "        gradients_of_generator = gen_tape.gradient(gen_loss, generator.trainable_variables)\n",
        "        generator_optimizer.apply_gradients(zip(gradients_of_generator, generator.trainable_variables))     \n",
        "\n",
        "    # Save the model every n epochs\n",
        "    if (epoch + 1) % 99 == 0:\n",
        "      checkpoint.save(file_prefix = checkpoint_prefix)\n",
        "\n",
        "      # Save sample generated distribs to track progress\n",
        "      ii_generated_sample = []\n",
        "      for i in range(age_data.size):\n",
        "        jj_noise = tf.random.normal([1,latent_dim])\n",
        "        jj_generated_sample = generator(jj_noise,training=False)\n",
        "        ii_generated_sample.append(jj_generated_sample.numpy()[0][0]) \n",
        "      generated_samples_progress[epoch] = ii_generated_sample\n",
        "\n",
        "    print ('Time for epoch {} is {} sec'.format(epoch + 1, time.time()-start))"
      ],
      "metadata": {
        "id": "VvqoAGR9IhtF"
      },
      "execution_count": null,
      "outputs": []
    },
    {
      "cell_type": "code",
      "source": [
        "EPOCHS = 1000\n",
        "train(train_dataset, EPOCHS)"
      ],
      "metadata": {
        "id": "CYn82cTcIj_W"
      },
      "execution_count": null,
      "outputs": []
    },
    {
      "cell_type": "code",
      "source": [
        "# Plot loss function\n",
        "disc_loss_hist = np.asarray(disc_loss_hist)\n",
        "gen_loss_hist = np.asarray(gen_loss_hist)\n",
        "gen_loss_steps = np.arange(0,len(disc_loss_hist),13000/2000) # generator loss was only recorded sparsely\n",
        "plt.figure(figsize=(10,8))\n",
        "plt.plot(disc_loss_hist+1,color='orange',label='Discriminator Loss')\n",
        "plt.plot(gen_loss_steps,gen_loss_hist+1,color='green',label='Generator Loss')\n",
        "plt.yscale('log')\n",
        "plt.xlabel('Training Step',fontsize=14)\n",
        "plt.ylabel('Loss',fontsize=14)\n",
        "plt.legend(fontsize=14)\n",
        "plt.show()"
      ],
      "metadata": {
        "colab": {
          "base_uri": "https://localhost:8080/",
          "height": 501
        },
        "id": "LvnafpWRIlKe",
        "outputId": "c15fe6ee-b84d-4b4a-e2df-6529874dab2b"
      },
      "execution_count": null,
      "outputs": [
        {
          "output_type": "display_data",
          "data": {
            "text/plain": [
              "<Figure size 720x576 with 1 Axes>"
            ],
            "image/png": "[encoded data removed]"
          },
          "metadata": {
            "needs_background": "light"
          }
        }
      ]
    },
    {
      "cell_type": "code",
      "source": [
        "checkpoint.restore(tf.train.latest_checkpoint(checkpoint_dir)) # point model to latest checkpoint"
      ],
      "metadata": {
        "colab": {
          "base_uri": "https://localhost:8080/"
        },
        "id": "XOra6ndSImhl",
        "outputId": "e3fcf865-df05-476a-b137-d02a6ae4791c"
      },
      "execution_count": null,
      "outputs": [
        {
          "output_type": "execute_result",
          "data": {
            "text/plain": [
              "<tensorflow.python.training.tracking.util.CheckpointLoadStatus at 0x7f206d53a090>"
            ]
          },
          "metadata": {},
          "execution_count": 30
        }
      ]
    },
    {
      "cell_type": "code",
      "source": [
        "generated_samples1 = []\n",
        "for i in range(age_data.size):\n",
        "  ii_noise = tf.random.normal([1,latent_dim])\n",
        "  ii_generated_sample = generator(ii_noise,training=False)\n",
        "  generated_samples1.append(ii_generated_sample.numpy()[0][0]) "
      ],
      "metadata": {
        "id": "-sxylz19Inoa"
      },
      "execution_count": null,
      "outputs": []
    },
    {
      "cell_type": "code",
      "source": [
        "fig1=plt.figure(figsize=(10,8))\n",
        "frame1=fig1.add_axes((.1,.3,.8,.6))\n",
        "bins = np.arange(-20.5,200.5,1)\n",
        "a = plt.hist(age_data,bins,facecolor='none',linewidth=1, edgecolor='k',alpha=1,label='Real Data')\n",
        "bin_centers = (a[1][:-1] + a[1][1:]) / 2\n",
        "b = plt.hist(generated_samples1,bins,facecolor='mediumblue', edgecolor='k',alpha=0.5,label='Generated Data')\n",
        "plt.xlim(-10,155)\n",
        "plt.ylabel('Counts',fontsize=14)\n",
        "frame1.set_xticklabels([])\n",
        "xlims = frame1.get_xlim()\n",
        "plt.legend(fontsize=14)\n",
        "\n",
        "frame2=fig1.add_axes((.1,.1,.8,.2))\n",
        "res = b[0] - a[0]\n",
        "plt.scatter(bin_centers,res,marker='|',color='mediumblue',alpha=1)\n",
        "plt.ylim(-70,120)\n",
        "plt.xlim(-10,155)\n",
        "plt.xlabel('Critical Patient Age (yr)',fontsize=14)\n",
        "plt.ylabel('Residuals',fontsize=14)\n",
        "plt.grid(True)\n",
        "plt.show()"
      ],
      "metadata": {
        "colab": {
          "base_uri": "https://localhost:8080/",
          "height": 527
        },
        "id": "pp1mombVIoyx",
        "outputId": "4c23752c-c5e4-4934-fb7a-14ad5450197c"
      },
      "execution_count": null,
      "outputs": [
        {
          "output_type": "display_data",
          "data": {
            "text/plain": [
              "<Figure size 720x576 with 2 Axes>"
            ],
            "image/png": "[encoded data removed]"
          },
          "metadata": {
            "needs_background": "light"
          }
        }
      ]
    },
    {
      "cell_type": "code",
      "source": [
        "print('Sample mean of real data distribution: {}'.format(np.mean(age_data)))\n",
        "print('Sample std of real data distribution: {}'.format(np.std(age_data)))\n",
        "\n",
        "print('Sample mean of generated data distribution: {}'.format(np.mean(generated_samples1)))\n",
        "print('Sample std of generated data distribution: {}'.format(np.std(generated_samples1)))\n",
        "\n",
        "print('The Jensen-Shannon divergence (base 2) between target and generated distribs is: {}'.format(distance.jensenshannon(age_data,generated_samples1,base=2)))"
      ],
      "metadata": {
        "colab": {
          "base_uri": "https://localhost:8080/"
        },
        "id": "A-6sS19tItU1",
        "outputId": "d58ee69f-88d3-4793-8480-5797ec4c6d38"
      },
      "execution_count": null,
      "outputs": [
        {
          "output_type": "stream",
          "name": "stdout",
          "text": [
            "Sample mean of real data distribution: 63.28452380952381\n",
            "Sample std of real data distribution: 17.721668608381833\n",
            "Sample mean of generated data distribution: 62.86051559448242\n",
            "Sample std of generated data distribution: 22.10661506652832\n",
            "The Jensen-Shannon divergence (base 2) between target and generated distribs is: 0.19823544074804042\n"
          ]
        }
      ]
    },
    {
      "cell_type": "markdown",
      "source": [
        "- Generated distribution has improved matching to real distribution but still having issues matching tails"
      ],
      "metadata": {
        "id": "mBuWvAlsIuOd"
      }
    },
    {
      "cell_type": "code",
      "source": [
        "if False:\n",
        "  # make samples into individual images\n",
        "  generated_samples_progress[0] = generated_samples0\n",
        "  keys = list(generated_samples_progress.keys())\n",
        "  keys.sort()\n",
        "\n",
        "  bins2 = np.arange(-20.5,200.5,1)\n",
        "  im_counter = 0\n",
        "  for ii_key in keys:\n",
        "    ii_gen_samples = generated_samples_progress[ii_key]\n",
        "\n",
        "    plt.figure(figsize=(10,8))\n",
        "    bins = np.arange(np.min(age_data)-0.5,np.max(age_data)+1.5,1)\n",
        "    a = plt.hist(age_data,bins,facecolor='none',linewidth=2, edgecolor='k',alpha=1,label='Real Data')\n",
        "    b = plt.hist(ii_gen_samples,bins2,facecolor='mediumblue', edgecolor='k',alpha=0.5,label='Generated Data')\n",
        "    plt.xlim(-10,120)\n",
        "    plt.ylim(0,900)\n",
        "    plt.ylabel('Counts',fontsize=14)\n",
        "    plt.xlabel('Critical Patient Age (yr)',fontsize=14)\n",
        "    plt.legend(fontsize=14)\n",
        "    plt.title('Epoch {}'.format(ii_key),fontsize=14)\n",
        "    plt.savefig('/content/drive/MyDrive/temp2/{}.png'.format(im_counter), dpi=300, bbox_inches='tight') \n",
        "    plt.pause(5) \n",
        "    plt.close()\n",
        "\n",
        "    im_counter+=1"
      ],
      "metadata": {
        "id": "Omxl1PJLIvop"
      },
      "execution_count": null,
      "outputs": []
    }
  ]
}